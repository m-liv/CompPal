{
 "cells": [
  {
   "cell_type": "markdown",
   "metadata": {},
   "source": [
    "# Intel® OSPRay Studio overview and walkthrough\n",
    "--------\n",
    "\n"
   ]
  },
  {
   "cell_type": "markdown",
   "metadata": {},
   "source": [
    "## Learning Objectives\n",
    "\n",
    "* Define the goals of Intel® OSPRay.\n",
    "* Summarize the program flow and OSPRay API use in the ospTutorial.cpp code.\n"
   ]
  },
  {
   "cell_type": "markdown",
   "metadata": {
    "tags": []
   },
   "source": [
    "***\n",
    "## 1. Intel&reg; OSPRay Studio overview\n",
    "\n",
    "What it is:\n",
    "* Real-time rendering through a graphical user interface with this new scene graph application\n",
    "\n",
    "Features:\n",
    "* Open source OSPRay Scene Graph Application\n",
    "\n",
    "* High-fidelity ray-traced, interactive, real-time rendering made easy\n",
    "\n",
    "* Robust scientific visualization & photoreal rendering \n",
    "\n",
    "* Demonstrates full breadth: Intel® OSPRay + rendering libraries\n",
    "\n",
    "* Visualize multiple formats of 3D models & time series"
   ]
  },
  {
   "cell_type": "markdown",
   "metadata": {
    "tags": []
   },
   "source": [
    "Highlights:\n",
    "* No programming necessary\n",
    "\n",
    "* Just load a supported file type and start viewing\n",
    "\n",
    "* File Importer – obj/mtl, glTF, vdb, structured and unstructured volume formats (growing list of open-source asset formats)\n",
    "\n",
    "* Supports all OSPRay light types (directional, point, spotlight, area, HDRI, ambient, Sun-Sky, luminous emissive)\n",
    "\n",
    "* GUI scene builder/editor for materials, lights, camera editor, and camera path control\n",
    "\n",
    "* Scene and image exporter – Supports extremely large image output, independent of window size. Includes headless batch mode for offline image generation\n",
    "\n",
    "It can be completely customizable through plugins. Plugin for USD Hydra is an example:\n",
    "\n",
    "* A rendering plugin for Pixar’s Universal Scene Description (USD), usable by any application that supports Hydra, including applications such as Maya, Houdini, etc."
   ]
  },
  {
   "cell_type": "markdown",
   "metadata": {
    "tags": []
   },
   "source": [
    "***\n",
    "\n",
    "## 2. Intel&reg; OSPRay Studio interactive example"
   ]
  },
  {
   "cell_type": "markdown",
   "metadata": {},
   "source": [
    "With this exercise we will interactively render the object provided in the obj folder with OSPRay Studio.  OSPRay Studio is included in the Rendering Toolkit that can be downloaded from [here](https://www.intel.com/content/www/us/en/developer/tools/oneapi/rendering-toolkit.html).  Once the Rendering Toolkit is installed, OSPRay Studio can be open from the command prompt with the following steps:\n",
    "\n",
    "* Open the command prompt\n",
    "* Set up the environment variables by executing the setvars.bat script.  In Windows usually this script is located in \"C:\\Program Files (x86)\\Intel\\oneAPI\\setvars.bat\" which path can be copied in the command prompt in the command prompt.  The setvars.bat script can be in a separate folder than the one provided here. If so, navigate to the folder where the setvars.bat is and execute it\n",
    "* Once the environment variables have been updated, execute \"ospStudio.exe\" in the command prompt to open OSPRay Studio\n",
    "\n",
    "\n",
    "There are three main menus we will be working with:\n",
    "* Light editor\n",
    "* Renderer editor\n",
    "* Framebuffer editor\n",
    "\n",
    "<!-- <img src=\"figures/Spaceship.png\" style=\"width:75%\"></img> -->\n",
    "\n",
    "### 2.1. Light editor:\n",
    "In this menu we will create a new light in the \"new light\" section and select the sunSky as type. The name of the light has to be specified.\n",
    "\n",
    "### 2.2. Renderer editor:\n",
    "There are three different renderers we are going to use in this exercise: Pathtracer, Scivis and Ao. The pathtracer renderer provides the highest quality but it is also the more demanding and can influence the interactive user experience. The scivis renderer is accurate and fast but does not offer the same lights rendering as pathtracer. Finally, ao (as ambient) provides the fastest interaction with OSPRay studio so this renderer is perfect to perform intermediate adjustments in our approach to the desired final rendered picture.  The following three pictures depict these renderers to have visual understanding of their performances:\n",
    "\n",
    "\n",
    "* Renderer = Pathtracer:\n",
    "\n",
    "<!-- <img src=\"figures/Spaceship_PT.png\" style=\"width:50%\"></img> -->\n",
    "\n",
    "* Renderer = Scivis:\n",
    "\n",
    "<!-- <img src=\"figures/Spaceship_SC.png\" style=\"width:50%\"></img> -->\n",
    "\n",
    "* Renderer = Ao (Ambient):\n",
    "\n",
    "<!-- <img src=\"figures/Spaceship_AO.png\" style=\"width:50%\"></img> -->\n",
    "\n",
    "### 2.3. Framebuffer editor:\n",
    "The main things to consider for preparing the picture to be rendered are the \"Scale resolution\" and the \"Scale Nav resolution\" parameters.  These determine the definition of the render when the perspective is still and while navigating respectively. It is recommended to set a low \"Scale Nav resolution\" value so computational resources are saved to render temporal perspectives while navigating. Advised initial values  for \"Scale resolution\" and the \"Scale Nav resolution\" are 0.50x and 0.25x respectively that can be gradually increased based on the user experience.\n",
    "\n",
    "Denoising can be applied by activating \"floatFormat\" and then by activating \"Denoise\".  Consider that \"Denoise nav\" usually is not required and \"Denoise\" alone would be sufficient to achieve a good balance between performance and user interactivity."
   ]
  },
  {
   "cell_type": "markdown",
   "metadata": {
    "tags": []
   },
   "source": [
    "***\n",
    "\n",
    "## 3. Pre-rendered applied case developed with Intel&reg; OSPRay Studio: Bentley showroom\n",
    "http://sdvis.org/ospray_studio/Bentley-CW1/\n"
   ]
  },
  {
   "cell_type": "markdown",
   "metadata": {},
   "source": [
    "<img src=\"../link_to_IRTK_BD/OSPRay_Studio_BD/figures/Bentley.png\" style=\"width:75%\"></img>"
   ]
  },
  {
   "cell_type": "markdown",
   "metadata": {},
   "source": [
    "***\n",
    "## Summary\n",
    "\n",
    "You have arrived at the end of this lesson. During this lesson, you:\n",
    "\n",
    "* Have learned about Intel® OSPRay Studio overview, features and highlights\n",
    "* Have been showed a demonstration of Intel® OSPRay Studio interactive renderer case\n",
    "\n",
    "***\n",
    "## Resources\n",
    "* Video: [Hyper-Real Rendering with Bentley Motors – Intel® OSPRay Studio](https://www.youtube.com/watch?v=hAEAu6DVySM)\n",
    "* Video: [Interactive Volumetric Path Traced Cloudscape - Featuring Intel® Open Volume Kernel Library](https://www.youtube.com/watch?v=cpRMNuyiTig)\n",
    "* Video: [Intel® OSPRay plugin for USD Hydra Interactive Rendering](https://www.youtube.com/watch?v=dbt_aa-tlyg)\n",
    "* Repository of [Intel® OSPRay](https://github.com/ospray/ospray_studio/)\n",
    "* Repository of [Intel® OSPRay for USD Hydra](https://github.com/ospray/hdospray)"
   ]
  },
  {
   "cell_type": "markdown",
   "metadata": {
    "tags": []
   },
   "source": [
    "***\n",
    "\n",
    "## 2. Intel&reg; OSPRay Studio interactive example"
   ]
  },
  {
   "cell_type": "markdown",
   "metadata": {},
   "source": [
    "***\n",
    "\n",
    "<html><body><span style=\"color:green\"><h1>Back: Overview</h1></span></body></html>\n",
    "\n",
    "[Click Here](../Overview.ipynb)"
   ]
  }
 ],
 "metadata": {
  "kernelspec": {
   "display_name": "Python 3 (ipykernel)",
   "language": "python",
   "name": "python3"
  },
  "language_info": {
   "codemirror_mode": {
    "name": "ipython",
    "version": 3
   },
   "file_extension": ".py",
   "mimetype": "text/x-python",
   "name": "python",
   "nbconvert_exporter": "python",
   "pygments_lexer": "ipython3",
   "version": "3.11.5"
  }
 },
 "nbformat": 4,
 "nbformat_minor": 4
}
