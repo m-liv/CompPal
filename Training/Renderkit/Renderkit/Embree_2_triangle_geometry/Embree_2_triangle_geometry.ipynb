{
 "cells": [
  {
   "cell_type": "markdown",
   "metadata": {},
   "source": [
    "# Intel® Embree with Triangle Geometry\n",
    "\n",
    "## Overview\n",
    "This module demonstrates how to create a static cube and ground plane using triangle meshes. It uses **rtcIntersect1** and **rtcOccluded1** functions to render primary visibility and hard shadows. The cube sides are colored based on the ID of the hit primitive.\n",
    "\n",
    "## Learning Objective\n",
    "* Initialize the Embree device, commit geometry and scene resources to the device.\n",
    "* Use of the **rtcIntersect1** and **rtcOccluded1** functions to render primary visibility and hard shadows.\n",
    "* Parallelize the work of rendering tiles onto the framebuffer by using the Embree task scheduler and the **parallel_for** function.\n",
    "\n",
    "## Examine the Code\n",
    "1. Open [triangle_geometry/triangle_geometry_device.cpp](triangle_geometry/triangle_geometry_device.cpp)\n",
    "2. Open [triangle_geometry/triangle_geometry_device.h](triangle_geometry/triangle_geometry_device.h)\n",
    "    \n",
    "\n",
    "Follow the instructions in each file, summarized in steps 1 through 5.\n",
    "\n",
    "1. Inspect the functions **addCube** and **addGroundPlane**. Inside of each you can find the vertex positions and colors that defines each geometry as they are commited to the device. Like the previous module, the same steps apply here: Define the geometry, commit them to the device, and bind the geometry to the scene.\n",
    "\n",
    "2. The function **deviceInit** initializes scene data to nullptr, requests to create a new scene from the device, and if successful, it adds the cube and ground plane to that scene.\n",
    "\n",
    "3. The function **renderPixelStandard** is the work-horse of the entire program. It is important because here is where [**rtcIntersect1**.](https://www.embree.org/api.html#rtcintersect1) and [**rtcOccluded1**](https://www.embree.org/api.html#rtcoccluded1) are explicitly used to intersect rays with the scene and appropriately apply light or shadow contributions. Note the following:\n",
    "\n",
    "    1. The **rtcIntersect1** and **rtcOccluded1** support single ray queries.  \n",
    "    2. The **rtcIntersect1** function finds the closest hit of a single ray with the scene (**scene** argument). The provided ray/hit structure (**rayhit** argument) contains the ray to intersect and some hit output fields that are filled when a hit is found.\n",
    "    3. The **rtcOccluded1** function checks for a single ray (**ray** argument) whether there is any hit with the scene (scene argument). If no hit is found, the ray data is not updated. If a hit is found, the **tfar** component of the ray is set to **-inf**.\n",
    "    4. **renderPixelStandard** executes in parallel and writes the resulting colored pixels to the framebuffer.\n",
    "    \n",
    "4. Based on the input, the **renderTileTask** function computes the initial and end x,y coordinates for an input tile. Next, a double loop along y, and then x, is executed where each tile independently computes its pixel contributions.\n",
    "\n",
    "5. The function renderFrameStandard brings it all together where all of the tiles that contribute to the framebuffer are computed by launching each tile task with parallel_for.\n",
    "\n",
    "### Run the Executable\n",
    "\n",
    "For this module, the binary of the compiled code is already included in the bin directory of Embree. Execute the following cell to run the executible, output the results to test.ppm, and convert test.ppm to test.png."
   ]
  },
  {
   "cell_type": "code",
   "execution_count": 2,
   "metadata": {},
   "outputs": [],
   "source": [
    "! ./run.sh # ! ./q ./run.sh"
   ]
  },
  {
   "cell_type": "markdown",
   "metadata": {},
   "source": [
    "#### Execute the following cell to see the result."
   ]
  },
  {
   "cell_type": "code",
   "execution_count": 2,
   "metadata": {},
   "outputs": [
    {
     "data": {
      "image/png": "[encoded data removed]",
      "text/plain": [
       "<IPython.core.display.Image object>"
      ]
     },
     "execution_count": 2,
     "metadata": {},
     "output_type": "execute_result"
    }
   ],
   "source": [
    "from IPython.display import Image\n",
    "Image(\"test.png\")"
   ]
  },
  {
   "cell_type": "markdown",
   "metadata": {},
   "source": [
    "## Summary\n",
    "\n",
    "After participating in this module, you should be able to:\n",
    "\n",
    "* Initialize the Embree device.\n",
    "* Define basic geometries and scenes, and bind them to the Embree device.\n",
    "* Use the scalar intersect and occlusion Embree functions **rtcIntersect1** and **rtcOccluded1** and calculate light, color, and shadow values.\n",
    "* Launch tile rendering tasks in parallel and write to the framebuffer.\n",
    "\n",
    "## Links to Function Documentation\n",
    "* [rtcIntersect1](https://www.embree.org/api.html#rtcintersect1)\n",
    "* [rtcOccluded1](https://www.embree.org/api.html#rtcoccluded1)\n",
    "\n",
    "\n",
    "***"
   ]
  },
  {
   "cell_type": "markdown",
   "metadata": {},
   "source": [
    "[Back: Overview](../Overview.ipynb)"
   ]
  }
 ],
 "metadata": {
  "kernelspec": {
   "display_name": "Python 3 (ipykernel)",
   "language": "python",
   "name": "python3"
  },
  "language_info": {
   "codemirror_mode": {
    "name": "ipython",
    "version": 3
   },
   "file_extension": ".py",
   "mimetype": "text/x-python",
   "name": "python",
   "nbconvert_exporter": "python",
   "pygments_lexer": "ipython3",
   "version": "3.11.5"
  }
 },
 "nbformat": 4,
 "nbformat_minor": 4
}
