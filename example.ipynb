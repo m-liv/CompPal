{
 "cells": [
  {
   "cell_type": "code",
   "execution_count": 2,
   "id": "c0bc8188-e507-4a08-97c0-a354f18c76ce",
   "metadata": {},
   "outputs": [],
   "source": [
    "import requests\n",
    "from bs4 import BeautifulSoup\n",
    "from sklearn.neighbors import KNeighborsClassifier\n",
    "import pandas as pd"
   ]
  },
  {
   "cell_type": "code",
   "execution_count": 24,
   "id": "4e086a61-123f-42ee-b068-bdebd8015490",
   "metadata": {},
   "outputs": [
    {
     "name": "stdout",
     "output_type": "stream",
     "text": [
      "[{'name': 'Dell - Inspiron 16.0\" 2-in-1 Touch Laptop - AMD Ryzen 5 7530U - 16GB Memory - 512GB SSD - Dark River Blue'}, {'name': 'HP - 15.6\" Touch-Screen Full HD Laptop - Intel Core i7 - 16GB Memory - 512GB SSD - Natural Silver'}, {'name': 'HP - 15.6\" Full HD Laptop - AMD Ryzen 5 7520U - 16GB Memory - 256GB SSD - Natural Silver'}, {'name': 'ASUS - Vivobook 16\" Laptop - AMD Ryzen 7 5800HS with 12GB Memory - 512GB SSD - Quiet Blue'}, {'name': 'HP - 14\" Chromebook Laptop - Intel Celeron - 4GB Memory - 64GB eMMC - Modern Gray'}, {'name': 'Lenovo - Yoga 7i 2-in-1 14\" 2.2K Laptop - Intel Evo Platform - Intel Core i7-1355U with 16GB Memory - 512GB SSD - Storm Grey'}, {'name': 'Microsoft - Surface Laptop 5 - 13.5” Touch-Screen - Intel Evo Platform Core i7 with 16GB Memory - 512GB SSD (Latest Model) - Black (Metal)'}, {'name': 'Acer - Aspire 3 Thin & Light Laptop - 15.6\" Full HD IPS Touch Display - AMD Ryzen 5 7520U - 8GB LPDDR5 - 512GB SSD - Wi-Fi 6 - Steam Blue'}, {'name': 'Dell - Inspiron 14.0\" 2-in-1 Touch Laptop - 13th Gen Intel Core i7 - 16GB Memory - 1TB SSD - Platinum Silver'}, {'name': 'Acer - Nitro 5 15.6\" Gaming Laptop FHD-Intel 12th Gen Core i5- NVIDIA GeForce RTX3050 Ti- 16GB DDR4- 512GB PCIe-SSD - Black'}, {'name': 'Lenovo - Yoga 6 2-in-1 13.3\" WUXGA (1920 x 1200) Touch Laptop -Ryzen 7 7730U with 16GB Memory - 512GB SSD - Dark Teal'}, {'name': 'Lenovo - Ideapad 3i 15.6\" FHD Touch Laptop - Core i5-1155G7 with 8GB Memory - 512GB SSD - Abyss Blue'}, {'name': 'HP - 14\" Laptop - Intel Celeron - 4GB Memory - 64GB eMMC - Snowflake White'}, {'name': 'Lenovo - Yoga 7i 2-in-1 14\" 2.2K Laptop - Intel Evo Platform - Intel Core i5-1335U with 16GB Memory - 512GB SSD - Storm Grey'}, {'name': 'Microsoft - Surface Laptop Studio 2 - 14.4\" Touch-Screen - Intel Core i7 with 64GB Memory -GeForce RTX 4060-2TB SSD (Latest Model) - Platinum'}, {'name': 'Lenovo - Yoga 7i 16\" WUXGA 2 in 1 Touch-Screen Laptop - Intel Core i5-1335U - 16GB Memory - 512GB SSD - Storm Grey'}, {'name': 'HP - Envy 2-in-1 15.6\" Full HD Touch-Screen Laptop - Intel Core i5 - 8GB Memory - 256GB SSD - Natural Silver'}, {'name': 'Apple - MacBook Pro 14\" Laptop - M3 Pro chip - 18GB Memory - 14-core GPU - 512GB SSD (Latest Model) - Space Black'}, {'name': 'ASUS - Vivobook 15.6\" Creator Laptop (HD) - Intel 13th Gen Core i9 with 16GB Memory - NVIDIA GeForce RTX 3050 - 1TB SSD - Black'}, {'name': 'Lenovo - Legion Slim 5 14.5\" OLED Gaming Laptop - Ryzen 7 7840HS with 16GB Memory - NVIDIA GeForce RTX 4060 8GB with 1 TB SSD - Storm Grey'}, {'name': 'HP - 15.6\" Touch-Screen Laptop - Intel Core i3 - 8GB Memory - 256GB SSD - Natural Silver'}, {'name': 'Lenovo Slim 7i 16\" WQXGA Touchscreen Laptop - Intel Core i7-12700H with 16GB Memory - Intel Arc A370M 4GB - 1 TB SSD - Storm Grey'}, {'name': 'HP - Envy 2-in-1 14\" Full HD Touch-Screen Laptop - Intel Core i7 - 16GB Memory - 1TB SSD - Natural Silver'}, {'name': 'HP - Envy 2-in-1 14\" Full HD Touch-Screen Laptop - Intel Core i5 - 8GB Memory - 512GB SSD - Natural Silver'}, {'name': 'Lenovo - Yoga 7i 16\" WUXGA 2 in 1 Touch-Screen Laptop - Intel Core i7-1355U - 16GB Memory - 512GB SSD - Storm Grey'}, {'name': 'Lenovo Ideapad 1 15.6\" Laptop - Ryzen 7 5700U with 16GB Memory - AMD Radeon Graphics - 512GB SSD - Cloud Gray'}, {'name': 'MacBook Pro 13.3\" Laptop - Apple M2 chip - 8GB Memory - 512GB SSD (Latest Model) - Silver'}, {'name': 'Dell - Inspiron 16.0\" 2-in-1 Touch Laptop -13th Gen Intel Evo i7 - 16GB Memory - 1TB SSD - Platinum Silver'}, {'name': 'Dell - Inspiron 14.0\" 2-in-1 Touch Laptop - 13th Gen Intel Core i5 - 8GB Memory - 512GB SSD - Platinum Silver'}, {'name': 'Lenovo - Yoga 7 16\" WUXGA 2 in 1 Touch Screen Laptop - AMD Ryzen 5 7535U - 8GB Memory - 512GBSSD - Arctic Grey'}, {'name': 'HP - Pavilion Plus 14\" Wide Ultra XGA Laptop - AMD Ryzen 5 7540U - 16GB Memory - 512GB SSD - Moonlight Blue'}, {'name': 'LG - gram 17” Laptop - Intel Evo Platform 13th Gen Intel Core i7 with 32GB RAM - 2TB NVMe SSD - Charcoal Gray'}, {'name': 'Dell - Inspiron 16.0\" 2-in-1 Touch Laptop - AMD Ryzen 7 7730U - 16GB Memory - 1TB SSD - Dark River Blue'}, {'name': 'HP - Envy 2-in-1 15.6\" Full HD Touch-Screen Laptop - Intel Core i7 - 16GB Memory - 512GB SSD - Natural Silver'}, {'name': 'Lenovo - Yoga 6 2-in-1 13.3\" WUXGA (1920 x 1200) Touch Laptop -Ryzen 5 7530U with 8GB Memory - 256GB SSD - Dark Teal'}, {'name': 'HP - 17.3\" HD+ Laptop - AMD Ryzen 3 7320U - 8GB Memory - 256GB SSD - Natural Silver'}, {'name': 'Lenovo - IdeaPad 1i 15.6\" Refurbished Laptop - Intel Pentium Silver N6000 with 4GB Memory and 128GB eMMC - Blue'}, {'name': 'Lenovo - LOQ 15.6\" Gaming Laptop FHD - Intel Core i5-13420H with 8GB Memory - NVIDIA GeForce RTX 3050 6GB - 1TB SSD - Storm Grey'}, {'name': 'HP - Envy 17.3\" Full HD Touch-Screen Laptop - Intel Core i7 - 16GB Memory - 1TB SSD - Natural Silver'}, {'name': 'HP - 830 G6 13.3\" Refurbished 1920x1080 FHD - Intel 8th Gen Core i7-8665U - Intel UHD Graphics 620 with 32GB and 1TB - SSD - Silver'}, {'name': 'HP - Victus 15.6\" Gaming Laptop - AMD Ryzen 5 7535HS - 8GB Memory - NVIDIA GeForce RTX 2050 - 512GB SSD - Mica Silver'}, {'name': 'HP - Envy 2-in-1 15.6” Full HD Touch-Screen Laptop with Windows 11 Pro - Intel Core i7 - 16GB Memory - 1TB SSD - Natural Silver'}, {'name': 'Dell - Inspiron 14.0\" 2-in-1 Touch Laptop - AMD Ryzen 5 7530U - 8GB Memory - 512GB SSD - Lavender Blue'}, {'name': 'Dell - XPS 15 15.6\" FHD+ Laptop - Intel Core i7 - Intel Evo Design - 16GB Memory - NVIDIA GeForce RTX 4050 - 1TB SSD - Platinum Silver'}, {'name': 'HP - Spectre 2-in-1 13.5\" 3K2K OLED Touch-Screen Laptop - Intel Evo Platform - Core i7 - 16GB Memory - 1TB SSD - Nightfall Black'}, {'name': 'ASUS - Zenbook 14X 14.5\" 2.8K OLED Touch Laptop - Intel Evo Platform i7-13700H - 16GB Memory - 512GB SSD - Inkwell Gray'}, {'name': 'ASUS - Vivobook 14\" Laptop - Intel Core i3-1115G4 with 8GB Memory - 128GB SSD - Transparent Silver'}, {'name': 'HP - Spectre 2-in-1 16\" 2.8K OLED Touch-Screen Laptop - Intel Core Ultra 7 - 32GB Memory - NVIDIA GeForce RTX 4050 - 1TB SSD - Nightfall Black'}, {'name': 'MacBook Pro 13.3\" Laptop - Apple M2 chip - 8GB Memory - 256GB SSD (Latest Model) - Space Gray'}, {'name': 'Dell - G15 15.6\" Gaming Laptop - AMD Ryzen 5  7640HS - NVIDIA GeForce RTX 3050 - 16GB Memory - 1TB SSD - Dark Shadow Gray'}, {'name': 'Lenovo - Ideapad 1 14.0\" HD Laptop - Celeron N4020 with 4GB Memory - 64GB eMMC - Cloud Grey'}, {'name': 'ASUS - Zenbook Pro Duo 15 Touch Laptop OLED - Intel Core i7 with 16GB RAM - Nvidia GeForce RTX 3070 Ti - 1TB SSD - Celestial Blue'}, {'name': 'ASUS - ROG Zephyrus G14 14” 165Hz Gaming Laptop QHD- AMD Ryzen 9 with 16GB Memory-NVIDIA GeForce RTX 4060-512GB SSD - Moonlight White'}, {'name': 'Lenovo - Flex 3 15.6\" FHD Touch-Screen Chromebook Laptop - Pentium Silver N6000 with 8GB Memory - 64GB eMMC - Abyss Blue'}, {'name': 'Microsoft - Surface Laptop Studio 2 - 14.4\" Touch-Screen - Intel Core i7 with 32GB Memory -RTX 2000 Ada Gen-1TB SSD (Latest Model) - Platinum'}, {'name': 'ASUS - Vivobook Go 14\" FHD Laptop - AMD Ryzen 3 7320U up to 4.1Ghz with 8GB Memory - 256GB SSD - Mixed Black'}, {'name': 'Dell - Inspiron 15 3520 Touch Laptop - Intel Core i5 - 8GB Memory - 256GB SSD - Carbon Black'}, {'name': 'HP - 14\" Laptop - Intel Celeron - 4GB Memory - 64GB eMMC - Indigo Blue'}, {'name': 'Dell - Inspiron 3420 14\" Touch Laptop - Qualcomm Snapdragon 8cx Gen 2 - 8GB Memory - 256GB SSD - Platinum'}, {'name': 'Lenovo Ideapad 1 14\" Laptop - Celeron N4020 with 4GB Memory - Intel UHD Graphics - 128GB SSD - Cloud Gray'}, {'name': 'Acer Aspire 1 - 15.6\" Laptop Intel Celeron N4500 1.10GHz 4GB 128GB FLASH W11H S - Refurbished - Pure Silver'}, {'name': 'Acer - Swift Edge 16 - 16\" 3.2K 120Hz OLED Laptop – AMD Ryzen 7 7840U with 16GB LPDDR5 memory– 1TB PCIe Gen 4 SSD - Olivine Black'}, {'name': 'ASUS - 17.3\" Chromebook Laptop - Intel Celeron N4500 with  4GB Memory - 64GB eMMC - Silver'}, {'name': 'Lenovo - ThinkPad E14 Gen 5 14\" Laptop - Intel Core i5 with 16GB Memory- 256GB SSD - Gray'}, {'name': 'HP - 2-in-1 14\" Touch-Screen Chromebook - Intel Celeron - 4GB Memory - 64GB eMMC - Natural Silver'}, {'name': 'Lenovo - Slim 3 Chromebook 14\" FHD Touch-Screen Laptop - MediaTek Kompanio 520 - 4GB Memory - 64GB eMMC - Abyss Blue'}, {'name': 'Lenovo IdeaPad 3 15IJL6 15.6\" Chromebook Intel Celeron N4500 4GB Ram 64GB eMMC Chrome OS - Refurbished - Arctic Grey'}, {'name': 'HP - 2-in-1 14\" Wide Ultra XGA Touch-Screen Chromebook Plus Laptop - Intel Core i3 - 8GB Memory - 256GB SSD - Mineral Silver'}, {'name': 'Dell - Refurbished 15.6\" Laptop - Intel Core i7 - 16GB Memory - 512GB Solid State Drive - Gray'}, {'name': 'Dell - Refurbished Latitude 5580 15.6\" Laptop - Intel Core i5 - 16GB Memory - 512GB Solid State Drive - Black'}, {'name': 'Lenovo - Legion Slim 5 16\" Gaming Laptop WUXGA - Ryzen 5 7640HS with 16GB Memory - NVIDIA GeForce RTX 4060 8GB - 512GB SSD - Storm Grey'}, {'name': 'Acer - Predator Helios Neo 16\" WUXGA 165Hz IPS Gaming Laptop -  Intel i5-13500HX – GeForce RTX 4050 with 16GB DDR5– 512GB SSD - Steel Gray'}]\n"
     ]
    }
   ],
   "source": [
    "def scrape_best_buy_laptops():\n",
    "    headers = {'User-Agent': \"Mozilla/5.0 (Windows NT 10.0; Win64; x64) AppleWebKit/537.36 (KHTML, like Gecko) Chrome/42.0.2311.135 Safari/537.36 Edge/12.246\"} \n",
    "    url = 'https://www.bestbuy.com/site/searchpage.jsp?id=pcat17071&st=laptops+computers+on+sale'\n",
    "\n",
    "    urls = ['https://www.bestbuy.com/site/searchpage.jsp?id=pcat17071&st=laptops+computers+on+sale', \n",
    "            'https://www.bestbuy.com/site/searchpage.jsp?cp=2&id=pcat17071&st=laptops+computers+on+sale', \n",
    "            'https://www.bestbuy.com/site/searchpage.jsp?cp=3&id=pcat17071&st=laptops+computers+on+sale', \n",
    "            'https://www.bestbuy.com/site/searchpage.jsp?cp=4&id=pcat17071&st=laptops+computers+on+sale']\n",
    "    \n",
    "    laptops = []\n",
    "    #scrape elements\n",
    "    for url in urls:\n",
    "        response = requests.get(url = url, headers = headers)\n",
    "        soup = BeautifulSoup(response.content, 'html.parser') # If this line causes an error, run 'pip install html5lib' or install html5lib\n",
    "        # print(soup.prettify()) - used for debugging\n",
    "        for row in soup.findAll('h4', attrs = {'class':'sku-title'}):  # Replace with the actual class\n",
    "            laptop = {}\n",
    "            laptop['name'] = row.a.text\n",
    "            laptops.append(laptop)\n",
    "    return laptops\n",
    "\n",
    "laptop_data = scrape_best_buy_laptops()\n",
    "print(laptop_data)\n",
    "\n"
   ]
  },
  {
   "cell_type": "markdown",
   "metadata": {},
   "source": []
  },
  {
   "cell_type": "code",
   "execution_count": 12,
   "id": "b44e9e5c",
   "metadata": {},
   "outputs": [
    {
     "ename": "NameError",
     "evalue": "name 'soup' is not defined",
     "output_type": "error",
     "traceback": [
      "\u001b[1;31m---------------------------------------------------------------------------\u001b[0m",
      "\u001b[1;31mNameError\u001b[0m                                 Traceback (most recent call last)",
      "Cell \u001b[1;32mIn[12], line 1\u001b[0m\n\u001b[1;32m----> 1\u001b[0m table \u001b[38;5;241m=\u001b[39m \u001b[43msoup\u001b[49m\u001b[38;5;241m.\u001b[39mfind(\u001b[38;5;124m'\u001b[39m\u001b[38;5;124mimg alt\u001b[39m\u001b[38;5;124m'\u001b[39m) \n",
      "\u001b[1;31mNameError\u001b[0m: name 'soup' is not defined"
     ]
    }
   ],
   "source": [
    "table = soup.find('img alt') "
   ]
  }
 ],
 "metadata": {
  "kernelspec": {
   "display_name": "Python 3 (ipykernel)",
   "language": "python",
   "name": "python3"
  },
  "language_info": {
   "codemirror_mode": {
    "name": "ipython",
    "version": 3
   },
   "file_extension": ".py",
   "mimetype": "text/x-python",
   "name": "python",
   "nbconvert_exporter": "python",
   "pygments_lexer": "ipython3",
   "version": "3.11.5"
  }
 },
 "nbformat": 4,
 "nbformat_minor": 5
}
